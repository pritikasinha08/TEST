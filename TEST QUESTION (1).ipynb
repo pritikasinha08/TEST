{
 "cells": [
  {
   "cell_type": "markdown",
   "id": "e16d1060-a23f-42a2-b95f-b004b2cbea27",
   "metadata": {},
   "source": [
    "# 1)Write a program to count the sub_string from main string\n",
    "### Example:-A B C D C D C\n",
    "### Sub_string = C D C rescult = 2"
   ]
  },
  {
   "cell_type": "code",
   "execution_count": 2,
   "id": "50f5ffeb-0d9c-4764-bd15-6e6e59604d17",
   "metadata": {},
   "outputs": [
    {
     "name": "stdout",
     "output_type": "stream",
     "text": [
      "Result = 2\n"
     ]
    }
   ],
   "source": [
    "def count_substring(main_string, sub_string):\n",
    "    main_list = main_string.split()\n",
    "    sub_list = sub_string.split()\n",
    "    \n",
    "    n = len(main_list)\n",
    "    m = len(sub_list)\n",
    "    \n",
    "    count = 0\n",
    "    \n",
    "    for i in range(n - m + 1):\n",
    "        if main_list[i:i + m] == sub_list:\n",
    "            count += 1\n",
    "            \n",
    "    return count\n",
    "\n",
    "# Example usage\n",
    "main_string = \"A B C D C D C\"\n",
    "sub_string = \"C D C\"\n",
    "result = count_substring(main_string, sub_string)\n",
    "print(f\"Result = {result}\")\n"
   ]
  },
  {
   "cell_type": "markdown",
   "id": "d984c0c2-45aa-45d5-82f1-f51a64f01d29",
   "metadata": {},
   "source": [
    "### 2)\tWrite a program to take 4 number and store in lis  \r\n",
    "[2,4,6. find the factorial of the each number of the list and store the value  in the listist \r\n"
   ]
  },
  {
   "cell_type": "code",
   "execution_count": 7,
   "id": "28a89bb3-df83-415e-b4d5-4cb0422d65f6",
   "metadata": {},
   "outputs": [
    {
     "name": "stdout",
     "output_type": "stream",
     "text": [
      "Original list: [2, 4, 6]\n",
      "Factorials list: [2, 24, 720]\n"
     ]
    }
   ],
   "source": [
    "import math\n",
    "\n",
    "def calculate_factorials(numbers):\n",
    "    # Use list comprehension to calculate factorials\n",
    "    factorials = [math.factorial(num) for num in numbers]\n",
    "    return factorials\n",
    "    \n",
    "numbers = [2, 4, 6]\n",
    "\n",
    "factorial_list = calculate_factorials(numbers)\n",
    "\n",
    "# Print the result\n",
    "print(f\"Original list: {numbers}\")\n",
    "print(f\"Factorials list: {factorial_list}\")\n"
   ]
  },
  {
   "cell_type": "markdown",
   "id": "71b4e1cd-20f7-4b04-8363-b8fd9c241519",
   "metadata": {},
   "source": [
    "# 3)Create a strong password combining words, numbers and characters.(*  )Keep creating the new password until you find one you like  \r\n"
   ]
  },
  {
   "cell_type": "code",
   "execution_count": 11,
   "id": "917ee4c5-4909-4966-ae5d-6f56126e97a1",
   "metadata": {},
   "outputs": [
    {
     "name": "stdout",
     "output_type": "stream",
     "text": [
      "Generated password: RHCg$=Gy<Vfe\n"
     ]
    },
    {
     "name": "stdin",
     "output_type": "stream",
     "text": [
      "Do you like this password? (yes/no):  yes\n"
     ]
    },
    {
     "name": "stdout",
     "output_type": "stream",
     "text": [
      "Great! You've chosen a strong password.\n"
     ]
    }
   ],
   "source": [
    "import random\n",
    "import string\n",
    "\n",
    "def generate_password(length=12):\n",
    "    \"\"\"Generate a strong password with a given length.\"\"\"\n",
    "    characters = string.ascii_letters + string.digits + string.punctuation\n",
    "\n",
    "    password = ''.join(random.choice(characters) for _ in range(length))\n",
    "    return password\n",
    "\n",
    "def main():\n",
    "    while True:\n",
    "        password = generate_password()\n",
    "        \n",
    "        print(f\"Generated password: {password}\")\n",
    "        \n",
    "        user_input = input(\"Do you like this password? (yes/no): \").strip().lower()\n",
    "        \n",
    "        if user_input == 'yes':\n",
    "            print(\"Great! You've chosen a strong password.\")\n",
    "            break\n",
    "        elif user_input == 'no':\n",
    "            print(\"Let's generate a new password.\")\n",
    "        else:\n",
    "            print(\"Invalid input. Please type 'yes' or 'no'.\")\n",
    "\n",
    "if __name__ == \"__main__\":\n",
    "    main()\n"
   ]
  },
  {
   "cell_type": "markdown",
   "id": "ad609f1a-8e99-4194-9965-88ed1faf6103",
   "metadata": {},
   "source": [
    "# 4) Checking of the vowels inside the string"
   ]
  },
  {
   "cell_type": "code",
   "execution_count": 14,
   "id": "2b28535c-cfd7-4e5a-80da-b982bb26cc47",
   "metadata": {},
   "outputs": [
    {
     "name": "stdout",
     "output_type": "stream",
     "text": [
      "Vowel counts in the string:\n",
      "A: 2\n",
      "E: 2\n",
      "I: 0\n",
      "O: 5\n",
      "U: 1\n"
     ]
    }
   ],
   "source": [
    "def count_vowels(text):\n",
    "    \"\"\"Count the number of each vowel in the given text.\"\"\"\n",
    "    # Define the vowels\n",
    "    vowels = \"aeiou\"\n",
    "    # Initialize a dictionary to store vowel counts\n",
    "    vowel_count = {vowel: 0 for vowel in vowels}\n",
    "    # Iterate through each character in the text\n",
    "    for char in text.lower():  # Convert to lowercase for case-insensitivity\n",
    "        if char in vowel_count:\n",
    "            vowel_count[char] += 1\n",
    "    \n",
    "    return vowel_count\n",
    "# Example \n",
    "input_string = \"Hello World, how are you today?\"\n",
    "vowel_counts = count_vowels(input_string)\n",
    "\n",
    "# Print the results\n",
    "print(\"Vowel counts in the string:\")\n",
    "for vowel, count in vowel_counts.items():\n",
    "    print(f\"{vowel.upper()}: {count}\")\n"
   ]
  },
  {
   "cell_type": "markdown",
   "id": "120a7bc0-8b29-48f3-92ef-e91079dd97bf",
   "metadata": {},
   "source": [
    "# 5)A python program to access each element of a string in forward and reverse orders using while loop \r\n",
    "\r\n"
   ]
  },
  {
   "cell_type": "code",
   "execution_count": 18,
   "id": "663537cb-f96b-407c-a970-ba118eb0d23b",
   "metadata": {},
   "outputs": [
    {
     "name": "stdout",
     "output_type": "stream",
     "text": [
      "Forward order:\n",
      "P y t h o n \n",
      "Reverse order:\n",
      "n o h t y P \n"
     ]
    }
   ],
   "source": [
    "def print_string_in_forward_and_reverse(string):\n",
    "    length = len(string)\n",
    "    # Print elements in forward order\n",
    "    print(\"Forward order:\")\n",
    "    index = 0\n",
    "    while index < length:\n",
    "        print(string[index], end=' ')\n",
    "        index += 1\n",
    "    print()  # Newline for separation\n",
    "    \n",
    "    # Print elements in reverse order\n",
    "    print(\"Reverse order:\")\n",
    "    index = length - 1\n",
    "    while index >= 0:\n",
    "        print(string[index], end=' ')\n",
    "        index -= 1\n",
    "    print()  # Newline for separation\n",
    "\n",
    "# Example usage\n",
    "input_string = \"Python\"\n",
    "print_string_in_forward_and_reverse(input_string)\n"
   ]
  },
  {
   "cell_type": "markdown",
   "id": "a4f2569b-66f8-47c7-bf98-e7e4281ff91d",
   "metadata": {},
   "source": [
    "# 6)Write a python program to know whether a sub- string exists in main string "
   ]
  },
  {
   "cell_type": "code",
   "execution_count": 21,
   "id": "0366e1bb-d5c2-4e7b-863c-9de74216cd7b",
   "metadata": {},
   "outputs": [
    {
     "name": "stdout",
     "output_type": "stream",
     "text": [
      "The substring 'world' exists in the main string.\n"
     ]
    }
   ],
   "source": [
    "def is_substring_exists(main_string, sub_string):\n",
    "    \"\"\"Check if sub_string exists in main_string.\"\"\"\n",
    "    if sub_string in main_string:\n",
    "        return True\n",
    "    else:\n",
    "        return False\n",
    "# Example \n",
    "main_string = \"Hello, welcome to the world of Python!\"\n",
    "sub_string = \"world\"\n",
    "\n",
    "# Check if the substring exists in the main string\n",
    "if is_substring_exists(main_string, sub_string):\n",
    "    print(f\"The substring '{sub_string}' exists in the main string.\")\n",
    "else:\n",
    "    print(f\"The substring '{sub_string}' does not exist in the main string.\")\n"
   ]
  },
  {
   "cell_type": "markdown",
   "id": "2a6934dd-6f98-4109-a62b-3220a60677fe",
   "metadata": {},
   "source": [
    "# 7) A python program to find the first occurrences of sub string in a given main string  "
   ]
  },
  {
   "cell_type": "code",
   "execution_count": 25,
   "id": "cee382f3-187c-402e-a45f-04e9b26d8030",
   "metadata": {},
   "outputs": [
    {
     "name": "stdout",
     "output_type": "stream",
     "text": [
      "The substring 'world' first occurs at index 22.\n"
     ]
    }
   ],
   "source": [
    "def find_first_occurrence(main_string, sub_string):\n",
    "    \"\"\"Find the index of the first occurrence of sub_string in main_string.\"\"\"\n",
    "    index = main_string.find(sub_string)\n",
    "    \n",
    "    return index\n",
    "# Example\n",
    "main_string = \"Hello, welcome to the world of Python!\"\n",
    "sub_string = \"world\"\n",
    "\n",
    "# Find the first occurrence of the substring\n",
    "index = find_first_occurrence(main_string, sub_string)\n",
    "\n",
    "# Print the result\n",
    "if index != -1:\n",
    "    print(f\"The substring '{sub_string}' first occurs at index {index}.\")\n",
    "else:\n",
    "    print(f\"The substring '{sub_string}' was not found in the main string.\")\n"
   ]
  },
  {
   "cell_type": "markdown",
   "id": "bc086e53-f1e9-412f-aaeb-82555d9a2a00",
   "metadata": {},
   "source": [
    "# 8)A python program to insert a sub string in main string in a particular position\r",
    "### Example:- enter a string :- it is summer\n",
    "### Enter sub_string;- hot\n",
    "### Enter position no:- 7\n",
    "### Result :- It is hotsummer rer re\r\n"
   ]
  },
  {
   "cell_type": "code",
   "execution_count": null,
   "id": "a55fb581-2745-4ad3-8dcc-b066d6d28643",
   "metadata": {},
   "outputs": [],
   "source": [
    "def insert_substring(main_string, sub_string, position):\n",
    "    \"\"\"Insert sub_string into main_string at the specified position.\"\"\"\n",
    "    # Ensure the position is within the valid range\n",
    "    if position < 0 or position > len(main_string):\n",
    "        raise ValueError(\"Position is out of the valid range.\")\n",
    "    # Insert the substring\n",
    "    result_string = main_string[:position] + sub_string + main_string[position:]\n",
    "    return result_string\n",
    "# Example\n",
    "if __name__ == \"__main__\":\n",
    "    \n",
    "    main_string = input(\"Enter a string: \")\n",
    "    \n",
    "    sub_string = input(\"Enter the substring: \")\n",
    "    \n",
    "    position = int(input(\"Enter position number: \"))\n",
    "    \n",
    "    try:\n",
    "        result = insert_substring(main_string, sub_string, position)\n",
    "        print(\"Result:\", result)\n",
    "    except ValueError as e:\n",
    "        print(e)\n"
   ]
  },
  {
   "cell_type": "code",
   "execution_count": null,
   "id": "5bc433cb-2f9e-46d1-87a2-fccfde155740",
   "metadata": {},
   "outputs": [],
   "source": []
  }
 ],
 "metadata": {
  "kernelspec": {
   "display_name": "Python 3 (ipykernel)",
   "language": "python",
   "name": "python3"
  },
  "language_info": {
   "codemirror_mode": {
    "name": "ipython",
    "version": 3
   },
   "file_extension": ".py",
   "mimetype": "text/x-python",
   "name": "python",
   "nbconvert_exporter": "python",
   "pygments_lexer": "ipython3",
   "version": "3.12.4"
  }
 },
 "nbformat": 4,
 "nbformat_minor": 5
}
